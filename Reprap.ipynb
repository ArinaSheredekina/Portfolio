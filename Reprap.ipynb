{
 "cells": [
  {
   "cell_type": "code",
   "execution_count": 1,
   "id": "724a53e4-68c0-4345-a88c-d7f86726437b",
   "metadata": {},
   "outputs": [],
   "source": [
    "import nltk"
   ]
  },
  {
   "cell_type": "code",
   "execution_count": 2,
   "id": "663d9770-1798-40bb-91a4-6e11a1ea1e2f",
   "metadata": {},
   "outputs": [],
   "source": [
    "sent1=[\"The\", \"beautiful\" ,\"blue\", \"morning\", \"scene\", \"proves\" ,\"any\" ,\"new\" ,\"stressful\" ,\"attempts\", \"you\",\"made\", \"is\" , \"a\",\"wrong\", \"posture\"]"
   ]
  },
  {
   "cell_type": "code",
   "execution_count": 3,
   "id": "03ceae9a-4508-45b5-a9c5-7c34ce9a9095",
   "metadata": {},
   "outputs": [],
   "source": [
    "grammar1=\"NP:{<DT>?<JJ.*>*<NN.*>+}\""
   ]
  },
  {
   "cell_type": "code",
   "execution_count": 4,
   "id": "809324b8-cc65-4ce6-958e-5eabc252c0a3",
   "metadata": {},
   "outputs": [],
   "source": [
    "cp=nltk.RegexpParser(grammar1)"
   ]
  },
  {
   "cell_type": "code",
   "execution_count": 5,
   "id": "0d302234-3c17-44d4-8b78-6c26a8081f17",
   "metadata": {},
   "outputs": [
    {
     "data": {
      "text/plain": [
       "[('The', 'DT'),\n",
       " ('beautiful', 'JJ'),\n",
       " ('blue', 'JJ'),\n",
       " ('morning', 'NN'),\n",
       " ('scene', 'NN'),\n",
       " ('proves', 'VBZ'),\n",
       " ('any', 'DT'),\n",
       " ('new', 'JJ'),\n",
       " ('stressful', 'JJ'),\n",
       " ('attempts', 'NNS'),\n",
       " ('you', 'PRP'),\n",
       " ('made', 'VBN'),\n",
       " ('is', 'VBZ'),\n",
       " ('a', 'DT'),\n",
       " ('wrong', 'JJ'),\n",
       " ('posture', 'NN')]"
      ]
     },
     "execution_count": 5,
     "metadata": {},
     "output_type": "execute_result"
    }
   ],
   "source": [
    "nltk.pos_tag(sent1)"
   ]
  },
  {
   "cell_type": "code",
   "execution_count": 6,
   "id": "084c7101-f7f0-472c-918a-f59148b35047",
   "metadata": {},
   "outputs": [],
   "source": [
    "result=cp.parse(nltk.pos_tag(sent1))"
   ]
  },
  {
   "cell_type": "code",
   "execution_count": 7,
   "id": "cab71439-55fe-4f9b-bf8c-6216691ccad8",
   "metadata": {},
   "outputs": [
    {
     "name": "stdout",
     "output_type": "stream",
     "text": [
      "(S\n",
      "  (NP The/DT beautiful/JJ blue/JJ morning/NN scene/NN)\n",
      "  proves/VBZ\n",
      "  (NP any/DT new/JJ stressful/JJ attempts/NNS)\n",
      "  you/PRP\n",
      "  made/VBN\n",
      "  is/VBZ\n",
      "  (NP a/DT wrong/JJ posture/NN))\n"
     ]
    }
   ],
   "source": [
    "print(result)"
   ]
  },
  {
   "cell_type": "code",
   "execution_count": 8,
   "id": "0a40be86-91eb-4357-9d37-f5bfd0180f6d",
   "metadata": {},
   "outputs": [],
   "source": [
    "grammar2=\"VP:{<PRP>*<VB.>+}\""
   ]
  },
  {
   "cell_type": "code",
   "execution_count": 9,
   "id": "59d1a5cf-6b0c-4004-8960-482e90662b54",
   "metadata": {},
   "outputs": [],
   "source": [
    "cp2=nltk.RegexpParser(grammar2)"
   ]
  },
  {
   "cell_type": "code",
   "execution_count": 10,
   "id": "087bb6f7-72e9-429d-b22c-9324ff7c3be6",
   "metadata": {},
   "outputs": [],
   "source": [
    "result2=cp2.parse(nltk.pos_tag(sent1))"
   ]
  },
  {
   "cell_type": "code",
   "execution_count": 11,
   "id": "cb74110e-38e9-4860-b9f7-f7d356f3e3cb",
   "metadata": {},
   "outputs": [
    {
     "name": "stdout",
     "output_type": "stream",
     "text": [
      "(S\n",
      "  The/DT\n",
      "  beautiful/JJ\n",
      "  blue/JJ\n",
      "  morning/NN\n",
      "  scene/NN\n",
      "  (VP proves/VBZ)\n",
      "  any/DT\n",
      "  new/JJ\n",
      "  stressful/JJ\n",
      "  attempts/NNS\n",
      "  (VP you/PRP made/VBN is/VBZ)\n",
      "  a/DT\n",
      "  wrong/JJ\n",
      "  posture/NN)\n"
     ]
    }
   ],
   "source": [
    "print(result2)"
   ]
  },
  {
   "cell_type": "code",
   "execution_count": 12,
   "id": "1401d2b7-21c6-4c97-a6f3-8137af7dfdeb",
   "metadata": {},
   "outputs": [],
   "source": [
    "grammar3=r\"\"\"\n",
    "NP:{<.*>+}\n",
    "}<PRP>*<VB.*>+{\n",
    "\"\"\""
   ]
  },
  {
   "cell_type": "code",
   "execution_count": 13,
   "id": "59f3bb8f-4e44-432b-8385-595118f75e6d",
   "metadata": {},
   "outputs": [],
   "source": [
    "cp3=nltk.RegexpParser(grammar3)"
   ]
  },
  {
   "cell_type": "code",
   "execution_count": 14,
   "id": "9cd3e9d5-b2fa-4b95-ab4d-a64dc96db9a0",
   "metadata": {},
   "outputs": [],
   "source": [
    "result3=cp3.parse(nltk.pos_tag(sent1))"
   ]
  },
  {
   "cell_type": "code",
   "execution_count": 15,
   "id": "3afab2df-392b-43ce-a423-2e052458beff",
   "metadata": {},
   "outputs": [
    {
     "name": "stdout",
     "output_type": "stream",
     "text": [
      "(S\n",
      "  (NP The/DT beautiful/JJ blue/JJ morning/NN scene/NN)\n",
      "  proves/VBZ\n",
      "  (NP any/DT new/JJ stressful/JJ attempts/NNS)\n",
      "  you/PRP\n",
      "  made/VBN\n",
      "  is/VBZ\n",
      "  (NP a/DT wrong/JJ posture/NN))\n"
     ]
    }
   ],
   "source": [
    "print(result3)"
   ]
  },
  {
   "cell_type": "code",
   "execution_count": 16,
   "id": "0600e193-e035-4443-a017-3fd1d587d9dd",
   "metadata": {},
   "outputs": [],
   "source": [
    "grammar4=r\"\"\"\n",
    "NP:{<DT>?<JJ.*>*<NN.*>+}\n",
    "VP:{<PRP>+<VB.*>|<VB.*><NP>}\n",
    "\"\"\""
   ]
  },
  {
   "cell_type": "code",
   "execution_count": 17,
   "id": "86605908-9ced-4809-8f72-e9a5db4e88f2",
   "metadata": {},
   "outputs": [],
   "source": [
    "cp4=nltk.RegexpParser(grammar4)"
   ]
  },
  {
   "cell_type": "code",
   "execution_count": 18,
   "id": "ce50a1ab-bbac-4fbb-9609-f6589dd4846b",
   "metadata": {},
   "outputs": [],
   "source": [
    "result4=cp4.parse(nltk.pos_tag(sent1))"
   ]
  },
  {
   "cell_type": "code",
   "execution_count": 19,
   "id": "81c4bed8-3700-4ca3-b568-dcd3c152a6f8",
   "metadata": {},
   "outputs": [
    {
     "name": "stdout",
     "output_type": "stream",
     "text": [
      "(S\n",
      "  (NP The/DT beautiful/JJ blue/JJ morning/NN scene/NN)\n",
      "  (VP proves/VBZ (NP any/DT new/JJ stressful/JJ attempts/NNS))\n",
      "  (VP you/PRP made/VBN)\n",
      "  (VP is/VBZ (NP a/DT wrong/JJ posture/NN)))\n"
     ]
    }
   ],
   "source": [
    "print(result4)"
   ]
  },
  {
   "cell_type": "code",
   "execution_count": 20,
   "id": "8ae17328-d84e-47b0-ae59-053f6ea98ede",
   "metadata": {},
   "outputs": [],
   "source": [
    "sent2=[\"The\", \"quick\", \"brown\", \"fox\", \"jumped\", \"over\", \"the\", \"lazy\", \"dog\"]"
   ]
  },
  {
   "cell_type": "code",
   "execution_count": 21,
   "id": "2c12eba7-56be-4dda-ac8e-584a5af9af46",
   "metadata": {},
   "outputs": [],
   "source": [
    "grammar5=\"NP:{<DT><JJ.*>+<NN.*>+}\""
   ]
  },
  {
   "cell_type": "code",
   "execution_count": 22,
   "id": "0b7f3492-f41c-41d0-bc03-4e31e063b093",
   "metadata": {},
   "outputs": [],
   "source": [
    "cp5=nltk.RegexpParser(grammar5)"
   ]
  },
  {
   "cell_type": "code",
   "execution_count": 23,
   "id": "5b6c10bd-4d1c-423c-9636-38ce00eea88f",
   "metadata": {},
   "outputs": [],
   "source": [
    "result5=cp5.parse(nltk.pos_tag(sent2))"
   ]
  },
  {
   "cell_type": "code",
   "execution_count": 24,
   "id": "caeb3cdc-b29a-49e3-81d9-55d247a0793c",
   "metadata": {},
   "outputs": [
    {
     "name": "stdout",
     "output_type": "stream",
     "text": [
      "(S\n",
      "  (NP The/DT quick/JJ brown/NN fox/NN)\n",
      "  jumped/VBD\n",
      "  over/IN\n",
      "  (NP the/DT lazy/JJ dog/NN))\n"
     ]
    }
   ],
   "source": [
    "print(result5)"
   ]
  },
  {
   "cell_type": "code",
   "execution_count": 25,
   "id": "f3ff770d-4f96-4e77-8fd2-2ed7fc5f9c1c",
   "metadata": {},
   "outputs": [],
   "source": [
    "sent3=[\"My\", \"younger\", \"brother\", \"bought\", \"an\", \"expensive\", \"new\", \"phone\", \"yesterday\"]"
   ]
  },
  {
   "cell_type": "code",
   "execution_count": 26,
   "id": "5b2958a2-ad7b-4bdf-b8c1-6db19f11ad34",
   "metadata": {},
   "outputs": [],
   "source": [
    "grammar6=r\"\"\"\n",
    "NP:{<.*>+}\n",
    "}<VB.*>+{\n",
    "\"\"\""
   ]
  },
  {
   "cell_type": "code",
   "execution_count": 27,
   "id": "27d7de13-ec40-41ca-a88e-ae4be991f466",
   "metadata": {},
   "outputs": [],
   "source": [
    "cp6=nltk.RegexpParser(grammar6)"
   ]
  },
  {
   "cell_type": "code",
   "execution_count": 28,
   "id": "e97af609-e5f8-4343-9337-c23797e66b9e",
   "metadata": {},
   "outputs": [],
   "source": [
    "result6=cp6.parse(nltk.pos_tag(sent3))"
   ]
  },
  {
   "cell_type": "code",
   "execution_count": 29,
   "id": "8ae2f86d-7305-46ca-85b6-6cb49a5d8d96",
   "metadata": {},
   "outputs": [
    {
     "name": "stdout",
     "output_type": "stream",
     "text": [
      "(S\n",
      "  (NP My/PRP$ younger/JJR brother/NN)\n",
      "  bought/VBD\n",
      "  (NP an/DT expensive/JJ new/JJ phone/NN yesterday/NN))\n"
     ]
    }
   ],
   "source": [
    "print(result6)"
   ]
  },
  {
   "cell_type": "code",
   "execution_count": 30,
   "id": "939e2f10-9d45-46ab-a898-b93dd8977223",
   "metadata": {},
   "outputs": [],
   "source": [
    "sent4=[\"The\", \"professor\", \"explained\", \"the\", \"topic\", \"and\", \"answered\", \"all\", \"our\", \"questions\", \"carefully\" ]"
   ]
  },
  {
   "cell_type": "code",
   "execution_count": 31,
   "id": "087df962-3ad4-4287-aae3-50c2b670861e",
   "metadata": {},
   "outputs": [
    {
     "data": {
      "text/plain": [
       "[('The', 'DT'),\n",
       " ('professor', 'NN'),\n",
       " ('explained', 'VBD'),\n",
       " ('the', 'DT'),\n",
       " ('topic', 'NN'),\n",
       " ('and', 'CC'),\n",
       " ('answered', 'VBD'),\n",
       " ('all', 'DT'),\n",
       " ('our', 'PRP$'),\n",
       " ('questions', 'NNS'),\n",
       " ('carefully', 'RB')]"
      ]
     },
     "execution_count": 31,
     "metadata": {},
     "output_type": "execute_result"
    }
   ],
   "source": [
    "nltk.pos_tag(sent4)"
   ]
  },
  {
   "cell_type": "code",
   "execution_count": 32,
   "id": "1d134560-a1a6-4bae-b982-86271eb1a9cc",
   "metadata": {},
   "outputs": [],
   "source": [
    "grammar7=r\"\"\"\n",
    "NP:{<DT>?<PRP.*>*<NN.*>+}\n",
    "\"\"\""
   ]
  },
  {
   "cell_type": "code",
   "execution_count": 33,
   "id": "adc90902-494f-468e-a55a-3d5a8ebbeb1e",
   "metadata": {},
   "outputs": [],
   "source": [
    "cp7=nltk.RegexpParser(grammar7)"
   ]
  },
  {
   "cell_type": "code",
   "execution_count": 34,
   "id": "37bf0db7-d7c2-4f67-ba78-f518ae620a21",
   "metadata": {},
   "outputs": [],
   "source": [
    "result7=cp7.parse(nltk.pos_tag(sent4))"
   ]
  },
  {
   "cell_type": "code",
   "execution_count": 35,
   "id": "b7013c24-f04b-4968-9c62-2abb7c48d76a",
   "metadata": {},
   "outputs": [
    {
     "name": "stdout",
     "output_type": "stream",
     "text": [
      "(S\n",
      "  (NP The/DT professor/NN)\n",
      "  explained/VBD\n",
      "  (NP the/DT topic/NN)\n",
      "  and/CC\n",
      "  answered/VBD\n",
      "  (NP all/DT our/PRP$ questions/NNS)\n",
      "  carefully/RB)\n"
     ]
    }
   ],
   "source": [
    "print(result7)"
   ]
  },
  {
   "cell_type": "code",
   "execution_count": 36,
   "id": "61b74848-4f72-44cc-aa32-093601b768ee",
   "metadata": {},
   "outputs": [],
   "source": [
    "grammar8=r\"\"\"\n",
    "NP:{<DT>?<PRP.*>*<NN.*>+}\n",
    "VP:{<NP><VB.*><NP> | <CC>*<VB.*><NP><RB>}\n",
    "\"\"\""
   ]
  },
  {
   "cell_type": "code",
   "execution_count": 37,
   "id": "4f112f45-e017-47ce-a69e-f3b83c21a494",
   "metadata": {},
   "outputs": [],
   "source": [
    "cp8=nltk.RegexpParser(grammar8)"
   ]
  },
  {
   "cell_type": "code",
   "execution_count": 38,
   "id": "7d3b41b2-5e72-4e78-b7cc-d72e54b568f1",
   "metadata": {},
   "outputs": [],
   "source": [
    "result8=cp8.parse(nltk.pos_tag(sent4))"
   ]
  },
  {
   "cell_type": "code",
   "execution_count": 39,
   "id": "0663ab02-526d-43e0-9aa4-b7b04abc3018",
   "metadata": {},
   "outputs": [
    {
     "name": "stdout",
     "output_type": "stream",
     "text": [
      "(S\n",
      "  (VP (NP The/DT professor/NN) explained/VBD (NP the/DT topic/NN))\n",
      "  (VP\n",
      "    and/CC\n",
      "    answered/VBD\n",
      "    (NP all/DT our/PRP$ questions/NNS)\n",
      "    carefully/RB))\n"
     ]
    }
   ],
   "source": [
    "print(result8)"
   ]
  },
  {
   "cell_type": "code",
   "execution_count": 40,
   "id": "5675a4fa-a612-4ca0-a873-cbb9f787d1c0",
   "metadata": {},
   "outputs": [],
   "source": [
    "from nltk import CFG"
   ]
  },
  {
   "cell_type": "code",
   "execution_count": 41,
   "id": "21164c11-db30-4117-9cea-1725bfd13d05",
   "metadata": {},
   "outputs": [],
   "source": [
    "sent5=\"Her old dog was rescued after it escaped the yard\".split()\n"
   ]
  },
  {
   "cell_type": "code",
   "execution_count": 42,
   "id": "9908ffd3-7077-4438-946e-b4434bd4fc89",
   "metadata": {},
   "outputs": [],
   "source": [
    "grammar9= CFG.fromstring(\"\"\"\n",
    "... S -> NP VP\n",
    "... NP -> Det N | 'it' | Det JJ N \n",
    "... VP -> V NP | VP RBP | V V RBP\n",
    "... RBP -> WRB S\n",
    "... Det -> 'Her' | 'the'\n",
    "... N -> 'dog' | 'yard' | \n",
    "... V -> 'was' | 'rescued' | 'escaped'\n",
    "... WRB -> 'after'\n",
    "... JJ -> 'old' \n",
    "... \"\"\")\n"
   ]
  },
  {
   "cell_type": "code",
   "execution_count": 43,
   "id": "1c4c82c2-ac79-4fdb-9784-5cd57343f20c",
   "metadata": {},
   "outputs": [],
   "source": [
    "cp9=nltk.ChartParser(grammar9)"
   ]
  },
  {
   "cell_type": "code",
   "execution_count": 44,
   "id": "5019e107-2978-4441-acd2-4d9549b915da",
   "metadata": {},
   "outputs": [],
   "source": [
    "tree9=cp9.parse(sent5)"
   ]
  },
  {
   "cell_type": "code",
   "execution_count": 45,
   "id": "14495efe-6cf0-46bc-9729-98d5093910c3",
   "metadata": {},
   "outputs": [
    {
     "name": "stdout",
     "output_type": "stream",
     "text": [
      "(S\n",
      "  (NP (Det Her) (JJ old) (N dog))\n",
      "  (VP\n",
      "    (V was)\n",
      "    (V rescued)\n",
      "    (RBP\n",
      "      (WRB after)\n",
      "      (S (NP it) (VP (V escaped) (NP (Det the) (N yard)))))))\n"
     ]
    }
   ],
   "source": [
    "for tree in tree9:\n",
    "    print(tree)"
   ]
  },
  {
   "cell_type": "code",
   "execution_count": 137,
   "id": "a2037da1-7e5d-46b4-9048-6dbe96e42a9d",
   "metadata": {},
   "outputs": [],
   "source": [
    "grammar10=CFG.fromstring(\"\"\"\n",
    "... S -> NP VP\n",
    "... NP -> Det N | Det JJ N\n",
    "... VP -> V NP  | V NP RBP | V\n",
    "... RBP -> WRB S\n",
    "... Det -> 'The'| 'the'\n",
    "... N -> 'firefighter' | 'child' | 'fire'\n",
    "... V -> 'saved' | 'started'\n",
    "... WRB -> 'when'\n",
    "... JJ -> 'brave'\n",
    "... \"\"\")\n"
   ]
  },
  {
   "cell_type": "code",
   "execution_count": 139,
   "id": "f92e4e53-5803-4edd-899c-19a687ec5a0e",
   "metadata": {},
   "outputs": [],
   "source": [
    "sent6=\"The brave firefighter saved the child when the fire started\".split()"
   ]
  },
  {
   "cell_type": "code",
   "execution_count": 141,
   "id": "bae2774c-4d63-465b-b775-8af1323f7a6a",
   "metadata": {},
   "outputs": [],
   "source": [
    "cp10=nltk.ChartParser(grammar10)"
   ]
  },
  {
   "cell_type": "code",
   "execution_count": 143,
   "id": "2ace5968-48d5-4ed6-83f8-62aefabcacf5",
   "metadata": {},
   "outputs": [],
   "source": [
    "tree10=cp10.parse(sent6)"
   ]
  },
  {
   "cell_type": "code",
   "execution_count": 145,
   "id": "3553135e-fa57-4e68-8837-3d7fa1c5f08e",
   "metadata": {},
   "outputs": [
    {
     "name": "stdout",
     "output_type": "stream",
     "text": [
      "(S\n",
      "  (NP (Det The) (JJ brave) (N firefighter))\n",
      "  (VP\n",
      "    (V saved)\n",
      "    (NP (Det the) (N child))\n",
      "    (RBP (WRB when) (S (NP (Det the) (N fire)) (VP (V started))))))\n"
     ]
    }
   ],
   "source": [
    "for tree in tree10:\n",
    "    print(tree)"
   ]
  },
  {
   "cell_type": "code",
   "execution_count": 149,
   "id": "4cb185d7-7179-4888-944d-277eb8d7caee",
   "metadata": {},
   "outputs": [],
   "source": [
    "grammar11 = CFG.fromstring(\"\"\"\n",
    "... S -> NP VP\n",
    "... NP -> Det JJ N | 'she' | N\n",
    "... VP -> V RBP | V NP\n",
    "... RBP -> WRB S\n",
    "... Det -> 'My'\n",
    "... N -> 'spiders' | 'sister'\n",
    "... V -> 'cries' | 'sees'\n",
    "... WRB -> 'whenever'\n",
    "... JJ -> 'little'\n",
    "... \"\"\")\n"
   ]
  },
  {
   "cell_type": "code",
   "execution_count": 151,
   "id": "b192eb20-9a1d-40c4-84f2-8f70dc85c78b",
   "metadata": {},
   "outputs": [],
   "source": [
    "sent7=\"My little sister cries whenever she sees spiders\".split()"
   ]
  },
  {
   "cell_type": "code",
   "execution_count": 153,
   "id": "214a2ecf-0ee2-4221-961e-f01b77b699eb",
   "metadata": {},
   "outputs": [],
   "source": [
    "cp12=nltk.ChartParser(grammar11)"
   ]
  },
  {
   "cell_type": "code",
   "execution_count": 155,
   "id": "3f9f6f7a-9551-431a-ac20-786f4f8f2325",
   "metadata": {},
   "outputs": [],
   "source": [
    "tree11=cp12.parse(sent7)"
   ]
  },
  {
   "cell_type": "code",
   "execution_count": 157,
   "id": "a7e9c3bd-24b2-49e3-90af-a4449831abf4",
   "metadata": {},
   "outputs": [
    {
     "name": "stdout",
     "output_type": "stream",
     "text": [
      "(S\n",
      "  (NP (Det My) (JJ little) (N sister))\n",
      "  (VP\n",
      "    (V cries)\n",
      "    (RBP (WRB whenever) (S (NP she) (VP (V sees) (NP (N spiders)))))))\n"
     ]
    }
   ],
   "source": [
    "for tree in tree11:\n",
    "    print(tree)"
   ]
  },
  {
   "cell_type": "code",
   "execution_count": 159,
   "id": "53973f80-46a9-4c5a-922a-f78d5a9de7b8",
   "metadata": {},
   "outputs": [],
   "source": [
    "grammar12 = CFG.fromstring(\"\"\"\n",
    "... S -> NP VP\n",
    "... NP -> Det N | 'he' | Det JJ N\n",
    "... VP -> V NP | V V RBP | VP RBP\n",
    "... RBP -> WRB S\n",
    "... Det -> 'the' | 'His'\n",
    "... V -> 'is' | 'protected' | 'wears' | \n",
    "... N -> 'sunglasses' | 'eyes'\n",
    "... WRB -> 'when'\n",
    "... JJ -> 'sensitive'\n",
    "... \"\"\")\n"
   ]
  },
  {
   "cell_type": "code",
   "execution_count": 161,
   "id": "88b81e7a-162d-4b77-bbb1-a0d933c33c35",
   "metadata": {},
   "outputs": [],
   "source": [
    "sent8=\"His sensitive eyes is protected when he wears the sunglasses\".split()"
   ]
  },
  {
   "cell_type": "code",
   "execution_count": 163,
   "id": "13c956c0-0cab-4718-ad7b-363d8c4decf8",
   "metadata": {},
   "outputs": [],
   "source": [
    "cp13=nltk.ChartParser(grammar12)"
   ]
  },
  {
   "cell_type": "code",
   "execution_count": 165,
   "id": "494dbf29-5c2d-4575-9cd6-96acd4c3a5c4",
   "metadata": {},
   "outputs": [],
   "source": [
    "tree13=cp13.parse(sent8)"
   ]
  },
  {
   "cell_type": "code",
   "execution_count": 169,
   "id": "7035ef7f-19ab-4769-b054-e9a8c70e2d28",
   "metadata": {},
   "outputs": [
    {
     "name": "stdout",
     "output_type": "stream",
     "text": [
      "(S\n",
      "  (NP (Det His) (JJ sensitive) (N eyes))\n",
      "  (VP\n",
      "    (V is)\n",
      "    (V protected)\n",
      "    (RBP\n",
      "      (WRB when)\n",
      "      (S (NP he) (VP (V wears) (NP (Det the) (N sunglasses)))))))\n"
     ]
    }
   ],
   "source": [
    "for tree in tree13:\n",
    "    print(tree)"
   ]
  },
  {
   "cell_type": "code",
   "execution_count": 173,
   "id": "83971bad-e3f4-4cd0-b2ab-fec91da0548c",
   "metadata": {},
   "outputs": [],
   "source": [
    "grammar13 = CFG.fromstring(\"\"\"\n",
    "... S -> NP VP\n",
    "... NP -> Det JJ N | 'it' | JJ N\n",
    "... VP -> V RBP | V NP\n",
    "... RBP -> WRB S\n",
    "... Det -> 'Their'\n",
    "... N -> 'cat' | 'noises'\n",
    "... V -> 'hides' | 'hears'\n",
    "... WRB -> 'when'\n",
    "... JJ -> 'new' | 'loud'\n",
    "... \"\"\")\n"
   ]
  },
  {
   "cell_type": "code",
   "execution_count": 175,
   "id": "18bd253a-a286-43bb-bb67-39372dd3a555",
   "metadata": {},
   "outputs": [],
   "source": [
    "sent9=\"Their new cat hides when it hears loud noises\".split()"
   ]
  },
  {
   "cell_type": "code",
   "execution_count": 177,
   "id": "c99bdbd5-ba83-4615-8df1-06b8b5af23f6",
   "metadata": {},
   "outputs": [],
   "source": [
    "cp14=nltk.ChartParser(grammar13)"
   ]
  },
  {
   "cell_type": "code",
   "execution_count": 179,
   "id": "634e28a6-680c-4875-8e0f-3a9b0b54e69b",
   "metadata": {},
   "outputs": [],
   "source": [
    "tree14=cp14.parse(sent9)"
   ]
  },
  {
   "cell_type": "code",
   "execution_count": 181,
   "id": "a637518e-16f6-4c66-9c77-8594966fe38d",
   "metadata": {},
   "outputs": [
    {
     "name": "stdout",
     "output_type": "stream",
     "text": [
      "(S\n",
      "  (NP (Det Their) (JJ new) (N cat))\n",
      "  (VP\n",
      "    (V hides)\n",
      "    (RBP\n",
      "      (WRB when)\n",
      "      (S (NP it) (VP (V hears) (NP (JJ loud) (N noises)))))))\n"
     ]
    }
   ],
   "source": [
    "for tree in tree14:\n",
    "    print(tree)"
   ]
  },
  {
   "cell_type": "code",
   "execution_count": 187,
   "id": "1861b14e-33ee-4b78-9576-03180fcbc05c",
   "metadata": {},
   "outputs": [],
   "source": [
    "grammar14 = CFG.fromstring(\"\"\"\n",
    "... S -> NP VP\n",
    "... NP -> Det JJ N | 'he' | Det N\n",
    "... VP -> V RBP | V NP\n",
    "... RBP -> WRB S\n",
    "... Det -> 'Our' | 'a'\n",
    "... N -> 'neighbor' | 'siren'\n",
    "... V -> 'runs' | 'hears'\n",
    "... WRB -> 'whenever'\n",
    "... JJ -> 'tall' \n",
    "... \"\"\")\n"
   ]
  },
  {
   "cell_type": "code",
   "execution_count": 189,
   "id": "50b24a4d-2dfc-4514-b569-788799df23c1",
   "metadata": {},
   "outputs": [],
   "source": [
    "sent10=\"Our tall neighbor runs whenever he hears a siren\".split()"
   ]
  },
  {
   "cell_type": "code",
   "execution_count": 191,
   "id": "069a9961-45a4-4728-9972-3ac33c2f663d",
   "metadata": {},
   "outputs": [],
   "source": [
    "cp15=nltk.ChartParser(grammar14)\n"
   ]
  },
  {
   "cell_type": "code",
   "execution_count": 195,
   "id": "2043279b-45f8-40bd-bfdd-0ab7ada32014",
   "metadata": {},
   "outputs": [],
   "source": [
    "tree15=cp15.parse(sent10)"
   ]
  },
  {
   "cell_type": "code",
   "execution_count": 197,
   "id": "cb017334-9cea-4520-88f7-22ce7e6e14f5",
   "metadata": {},
   "outputs": [
    {
     "name": "stdout",
     "output_type": "stream",
     "text": [
      "(S\n",
      "  (NP (Det Our) (JJ tall) (N neighbor))\n",
      "  (VP\n",
      "    (V runs)\n",
      "    (RBP\n",
      "      (WRB whenever)\n",
      "      (S (NP he) (VP (V hears) (NP (Det a) (N siren)))))))\n"
     ]
    }
   ],
   "source": [
    "for tree in tree15:\n",
    "    print(tree)"
   ]
  },
  {
   "cell_type": "code",
   "execution_count": null,
   "id": "0c33a54f-fe9c-4379-8ef7-8909bd5ddd6d",
   "metadata": {},
   "outputs": [],
   "source": []
  }
 ],
 "metadata": {
  "kernelspec": {
   "display_name": "Python 3 (ipykernel)",
   "language": "python",
   "name": "python3"
  },
  "language_info": {
   "codemirror_mode": {
    "name": "ipython",
    "version": 3
   },
   "file_extension": ".py",
   "mimetype": "text/x-python",
   "name": "python",
   "nbconvert_exporter": "python",
   "pygments_lexer": "ipython3",
   "version": "3.12.4"
  }
 },
 "nbformat": 4,
 "nbformat_minor": 5
}
